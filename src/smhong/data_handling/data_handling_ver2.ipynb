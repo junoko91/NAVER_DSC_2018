{
 "cells": [
  {
   "cell_type": "code",
   "execution_count": 9,
   "metadata": {
    "collapsed": true
   },
   "outputs": [
    {
     "name": "stdout",
     "output_type": "stream",
     "text": [
      "Check Classes : ['LW' 'RW' 'ST' 'GK' 'CB' 'CM' 'CAM' 'LM' 'RB' 'RM' 'LB' 'CF' 'CDM' 'LWB'\n 'RWB']\nFinal Classes : ['LW' 'RW' 'ST' 'GK' 'CB' 'CM' 'CAM' 'LM' 'RB' 'RM' 'LB' 'CF' 'CDM']\n"
     ]
    },
    {
     "ename": "TypeError",
     "evalue": "'NoneType' object is not subscriptable",
     "traceback": [
      "\u001b[1;31m---------------------------------------------------------------------------\u001b[0m",
      "\u001b[1;31mTypeError\u001b[0m                                 Traceback (most recent call last)",
      "\u001b[1;32m<ipython-input-9-d403a654f08a>\u001b[0m in \u001b[0;36m<module>\u001b[1;34m()\u001b[0m\n\u001b[0;32m     38\u001b[0m \u001b[1;31m# row 능력치 scaling\u001b[0m\u001b[1;33m\u001b[0m\u001b[1;33m\u001b[0m\u001b[0m\n\u001b[0;32m     39\u001b[0m \u001b[0mscaler\u001b[0m \u001b[1;33m=\u001b[0m \u001b[0mMinMaxScaler\u001b[0m\u001b[1;33m(\u001b[0m\u001b[1;33m)\u001b[0m\u001b[1;33m\u001b[0m\u001b[0m\n\u001b[1;32m---> 40\u001b[1;33m \u001b[0mscaling_target\u001b[0m \u001b[1;33m=\u001b[0m \u001b[0mdata\u001b[0m\u001b[1;33m[\u001b[0m\u001b[1;33m+\u001b[0m\u001b[1;33m+\u001b[0m\u001b[1;36m99\u001b[0m\u001b[1;33m]\u001b[0m\u001b[1;33m\u001b[0m\u001b[0m\n\u001b[0m\u001b[0;32m     41\u001b[0m \u001b[0mscaling_target\u001b[0m \u001b[1;33m=\u001b[0m \u001b[0mscaler\u001b[0m\u001b[1;33m.\u001b[0m\u001b[0mfit_transform\u001b[0m\u001b[1;33m(\u001b[0m\u001b[0mscaling_target\u001b[0m\u001b[1;33m)\u001b[0m\u001b[1;33m\u001b[0m\u001b[0m\n\u001b[0;32m     42\u001b[0m \u001b[0mscaling_target\u001b[0m \u001b[1;33m=\u001b[0m \u001b[0mpd\u001b[0m\u001b[1;33m.\u001b[0m\u001b[0mDataFrame\u001b[0m\u001b[1;33m(\u001b[0m\u001b[0mscaling_target\u001b[0m\u001b[1;33m)\u001b[0m\u001b[1;33m\u001b[0m\u001b[0m\n",
      "\u001b[1;31mTypeError\u001b[0m: 'NoneType' object is not subscriptable"
     ],
     "output_type": "error"
    }
   ],
   "source": [
    "import pandas as pd\n",
    "from sklearn.preprocessing import MinMaxScaler\n",
    "\n",
    "data = pd.read_csv('C:/Users/user/Documents/NAVER_DSC_2018/data/smhong/primary_handled_data.csv')\n",
    "\n",
    "# Height 에서 \" cm\"를 삭제 후 int로 변경\n",
    "data['Height'] = data['Height'].apply(lambda x: int(str(x).replace(\" cm\", \"\")))\n",
    "# Weight 에서 \" kg\"를 삭제 후 int로 변경\n",
    "data['Weight'] = data['Weight'].apply(lambda x: int(str(x).replace(\" kg\", \"\")))\n",
    "# Position 에서 첫번째 포지션만 남기고 삭제\n",
    "data['Position'] = data['Position'].apply(lambda x: str(x).split(\"/\")[0])\n",
    "\n",
    "# Position 결측치 개수 파악\n",
    "null_count = data.isnull().sum()\n",
    "# print(null_count)\n",
    "# 결측치 확인\n",
    "data['Position'].dropna(inplace=False)\n",
    "# Attacking, Defensive에서 359개씩 확인\n",
    "# 데이터 셋에 비하여 적은 수 이므로 삭제 후 data에 덮어씀\n",
    "data.dropna(inplace=True)\n",
    "\n",
    "# Preffered Position 항목 확인\n",
    "positions = data['Position'].unique()\n",
    "print(\"Check Classes :\", positions)\n",
    "# LB와 LWB, RB와 RWB 를 LB, RB로 통합\n",
    "data['Position'] = data['Position'].replace({\"RWB\": \"RB\", \"LWB\": \"LB\"})\n",
    "positions = data['Position'].unique()\n",
    "\n",
    "# 최종 분류 Class 출력\n",
    "print(\"Final Classes :\", positions)\n",
    "\n",
    "# Preffered_Foot - One Hot Encoding\n",
    "data = pd.get_dummies(data, columns=[\"Preffered_Foot\"])\n",
    "\n",
    "# rating 삭제\n",
    "data = data.drop(\"Rating\", axis=1, inplace=True)\n",
    "\n",
    "# row 능력치 scaling\n",
    "scaler = MinMaxScaler()\n",
    "scaling_target = data[++99]\n",
    "scaling_target = scaler.fit_transform(scaling_target)\n",
    "scaling_target = pd.DataFrame(scaling_target)\n",
    "data.to_csv(\"data/smhong/data_ver2_scalied.csv\")\n",
    "\n",
    "# Position 을 맨 마지막 Column 으로 변경 (더 좋은 방법 있나...?)\n",
    "temp_position = data[\"Position\"]\n",
    "data.drop(\"Position\", axis=1, inplace=True)\n",
    "data[\"Position\"] = temp_position\n",
    "\n",
    "# 최종 데이터 저장\n",
    "data.to_csv(\"data/smhong/data_ver2.csv\")"
   ]
  },
  {
   "cell_type": "code",
   "execution_count": 3,
   "metadata": {},
   "outputs": [],
   "source": []
  },
  {
   "cell_type": "code",
   "execution_count": 3,
   "metadata": {},
   "outputs": [],
   "source": []
  },
  {
   "cell_type": "code",
   "execution_count": null,
   "metadata": {},
   "outputs": [],
   "source": []
  }
 ],
 "metadata": {
  "kernelspec": {
   "display_name": "Python 2",
   "language": "python",
   "name": "python2"
  },
  "language_info": {
   "codemirror_mode": {
    "name": "ipython",
    "version": 2
   },
   "file_extension": ".py",
   "mimetype": "text/x-python",
   "name": "python",
   "nbconvert_exporter": "python",
   "pygments_lexer": "ipython2",
   "version": "2.7.6"
  }
 },
 "nbformat": 4,
 "nbformat_minor": 0
}
